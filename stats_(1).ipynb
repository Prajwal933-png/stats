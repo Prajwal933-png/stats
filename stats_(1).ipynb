{
  "cells": [
    {
      "cell_type": "code",
      "execution_count": null,
      "id": "91e1b8df-58da-4981-87c3-295aa50c740d",
      "metadata": {
        "colab": {
          "base_uri": "https://localhost:8080/"
        },
        "id": "91e1b8df-58da-4981-87c3-295aa50c740d",
        "outputId": "8e6f3bb6-8e40-42f0-cb16-a97411c7d132"
      },
      "outputs": [
        {
          "output_type": "stream",
          "name": "stdout",
          "text": [
            "   age  salary  increment\n",
            "0   53   10391          8\n",
            "1   43   23986          7\n",
            "2   29   39090          5\n",
            "3   57   22666          6\n",
            "4   22   15892          5\n"
          ]
        }
      ],
      "source": [
        "import numpy as np\n",
        "import pandas as pd\n",
        "\n",
        "\n",
        "np.random.seed(42)\n",
        "n_rows = 100\n",
        "\n",
        "data = {\n",
        "    'age': np.random.randint(15, 60, size=n_rows),\n",
        "    'salary': np.random.randint(10000, 40000, size=n_rows),\n",
        "    'increment': np.random.choice([5, 6, 7, 8], size=n_rows)\n",
        "}\n",
        "\n",
        "df = pd.DataFrame(data)\n",
        "print(df.head())\n"
      ]
    },
    {
      "cell_type": "code",
      "execution_count": null,
      "id": "39cf0666-11e0-4844-9436-b93fbc079381",
      "metadata": {
        "colab": {
          "base_uri": "https://localhost:8080/"
        },
        "id": "39cf0666-11e0-4844-9436-b93fbc079381",
        "outputId": "067f6550-33f4-4a4a-a04f-12fc458b814a"
      },
      "outputs": [
        {
          "output_type": "stream",
          "name": "stdout",
          "text": [
            "Synthetic Dataset with NaN values:\n",
            "\n",
            "    age   salary  increment  Age\n",
            "0    53  10391.0          8  NaN\n",
            "1    43  23986.0          7  NaN\n",
            "2    29  39090.0          5  NaN\n",
            "3    57  22666.0          6  NaN\n",
            "4    22  15892.0          5  NaN\n",
            "5    35  13561.0          5  NaN\n",
            "6    53  36854.0          7  NaN\n",
            "7    33  16184.0          6  NaN\n",
            "8    37  29483.0          8  NaN\n",
            "9    25      NaN          8  NaN\n",
            "10   25  18392.0          7  NaN\n",
            "11   38  23067.0          7  NaN\n"
          ]
        }
      ],
      "source": [
        "df.loc[np.random.choice(df.index, 5, replace=False), \"salary\"] = np.nan\n",
        "df.loc[np.random.choice(df.index,8, replace=False), \"Age\"] = np.nan\n",
        "print(\"Synthetic Dataset with NaN values:\\n\")\n",
        "print(df.head(12))"
      ]
    },
    {
      "cell_type": "code",
      "execution_count": null,
      "id": "612621bf-676d-4de6-ad72-a47edbd02f8d",
      "metadata": {
        "colab": {
          "base_uri": "https://localhost:8080/"
        },
        "id": "612621bf-676d-4de6-ad72-a47edbd02f8d",
        "outputId": "9ba90018-23e2-4913-8f79-8f75228fdc9b"
      },
      "outputs": [
        {
          "output_type": "stream",
          "name": "stderr",
          "text": [
            "/tmp/ipython-input-3194075108.py:5: RuntimeWarning: invalid value encountered in scalar divide\n",
            "  (df.loc[mask, \"salary\"] * df.loc[mask, \"Age\"]).sum()\n"
          ]
        }
      ],
      "source": [
        "mean_salary = df[\"salary\"].mean(skipna=True)   # default skipna=True\n",
        "median_salary = df[\"salary\"].median(skipna=True)\n",
        "mask = df[\"salary\"].notna() & df[\"Age\"].notna()\n",
        "age_weighted_mean = (\n",
        "    (df.loc[mask, \"salary\"] * df.loc[mask, \"Age\"]).sum()\n",
        "    / df.loc[mask, \"Age\"].sum()\n",
        ")"
      ]
    },
    {
      "cell_type": "code",
      "execution_count": null,
      "id": "253dd25e-370f-4f40-9f9f-4702790e79a9",
      "metadata": {
        "colab": {
          "base_uri": "https://localhost:8080/"
        },
        "id": "253dd25e-370f-4f40-9f9f-4702790e79a9",
        "outputId": "466d9c4c-90af-4913-9941-3950c38f00d4"
      },
      "outputs": [
        {
          "output_type": "stream",
          "name": "stdout",
          "text": [
            "\n",
            "Results:\n",
            "Mean salary = 26330.69\n",
            "Median Income = 26312.00\n",
            "Age-Weighted Mean salary = nan\n"
          ]
        }
      ],
      "source": [
        "print(\"\\nResults:\")\n",
        "print(f\"Mean salary = {mean_salary:.2f}\")\n",
        "print(f\"Median Income = {median_salary:.2f}\")\n",
        "print(f\"Age-Weighted Mean salary = {age_weighted_mean:.2f}\")"
      ]
    },
    {
      "cell_type": "markdown",
      "id": "NWP4n026XLXT",
      "metadata": {
        "id": "NWP4n026XLXT"
      },
      "source": [
        ":Q Explain when weighted mean is preferable.\n",
        "Ans:Use weighted mean when some data should matter more than others.\n"
      ]
    },
    {
      "cell_type": "markdown",
      "id": "BX9J_RBtXRx5",
      "metadata": {
        "id": "BX9J_RBtXRx5"
      },
      "source": [
        "Problem 2: Standardize income (z-score). Report how many incomes are outliers using rule |z|\n",
        "> 3. Handle NaNs correctly (do not drop entire rows unnecessarily).\n"
      ]
    },
    {
      "cell_type": "code",
      "execution_count": null,
      "id": "8bfd4d21-522a-45bc-aef2-b31212146103",
      "metadata": {
        "id": "8bfd4d21-522a-45bc-aef2-b31212146103"
      },
      "outputs": [],
      "source": [
        "# Z-score standardization\n",
        "mean_salary = df[\"salary\"].mean(skipna=True)\n",
        "std_salary = df[\"salary\"].std(skipna=True)\n",
        "# Compute z-scores for Income\n",
        "df[\"salary_z\"] = (df[\"salary\"] - mean_salary) / std_salary\n",
        "# Identify outliers using |z| > 3\n",
        "outliers = df[(df[\"salary_z\"].abs() > 3)]"
      ]
    },
    {
      "cell_type": "code",
      "execution_count": null,
      "id": "458bc2aa-0108-459a-bbca-75fae1377713",
      "metadata": {
        "colab": {
          "base_uri": "https://localhost:8080/"
        },
        "id": "458bc2aa-0108-459a-bbca-75fae1377713",
        "outputId": "d59c7832-48dd-4829-c399-34835f95e1a4"
      },
      "outputs": [
        {
          "output_type": "stream",
          "name": "stdout",
          "text": [
            "\n",
            "Standardized Income (z-scores):\n",
            "\n",
            "     salary  salary_z\n",
            "0   10391.0 -1.912829\n",
            "1   23986.0 -0.281373\n",
            "2   39090.0  1.531169\n",
            "3   22666.0 -0.439778\n",
            "4   15892.0 -1.252686\n",
            "5   13561.0 -1.532416\n",
            "6   36854.0  1.262840\n",
            "7   16184.0 -1.217645\n",
            "8   29483.0  0.378290\n",
            "9       NaN       NaN\n",
            "10  18392.0 -0.952676\n",
            "11  23067.0 -0.391657\n",
            "\n",
            "Number of outliers = 0\n",
            "\n",
            "Outlier Rows:\n",
            "\n",
            "Empty DataFrame\n",
            "Columns: [age, salary, increment, Age, salary_z]\n",
            "Index: []\n"
          ]
        }
      ],
      "source": [
        "print(\"\\nStandardized Income (z-scores):\\n\")\n",
        "print(df[[ \"salary\", \"salary_z\"]].head(12))\n",
        "\n",
        "print(f\"\\nNumber of outliers = {outliers.shape[0]}\")\n",
        "print(\"\\nOutlier Rows:\\n\")\n",
        "print(outliers)"
      ]
    },
    {
      "cell_type": "markdown",
      "id": "VuQK1BzAXXbi",
      "metadata": {
        "id": "VuQK1BzAXXbi"
      },
      "source": [
        "Problem 3: Create age bins: [18-25), [25-35), [35-45), [45-60) and compute for each bin:\n",
        "● count of observations,\n",
        "● mean income,\n",
        "● median score.\n",
        "Show result as a tidy DataFrame sorted by age bin.\n"
      ]
    },
    {
      "cell_type": "code",
      "execution_count": null,
      "id": "e1255bb7-38f2-40fc-a3c8-6b5632b6a375",
      "metadata": {
        "colab": {
          "base_uri": "https://localhost:8080/"
        },
        "id": "e1255bb7-38f2-40fc-a3c8-6b5632b6a375",
        "outputId": "1f6362e6-6815-4204-c959-8942dadc06fa"
      },
      "outputs": [
        {
          "output_type": "stream",
          "name": "stderr",
          "text": [
            "/tmp/ipython-input-1467358649.py:5: FutureWarning: The default of observed=False is deprecated and will be changed to True in a future version of pandas. Pass observed=False to retain current behavior or observed=True to adopt the future default and silence this warning.\n",
            "  result = df.groupby(\"Age_Bin\").agg(\n"
          ]
        }
      ],
      "source": [
        "bins = [15, 25, 35, 45, 60]\n",
        "labels = [\"15-25\", \"25-34\", \"34-45\", \"45-55\"]\n",
        "\n",
        "df[\"Age_Bin\"] = pd.cut(df[\"Age\"], bins=bins, labels=labels, right=False)\n",
        "result = df.groupby(\"Age_Bin\").agg(\n",
        "    Count=(\"salary\", \"count\"),\n",
        "    Mean_Income=(\"salary\", \"mean\"),\n",
        "    Median_Income=(\"salary\", \"median\")\n",
        ").reset_index()\n",
        "result = result.sort_values(\"Age_Bin\").reset_index(drop=True)"
      ]
    },
    {
      "cell_type": "code",
      "execution_count": null,
      "id": "e2d45f32-ea4c-466c-8d54-e7ca4b5d3f18",
      "metadata": {
        "colab": {
          "base_uri": "https://localhost:8080/"
        },
        "id": "e2d45f32-ea4c-466c-8d54-e7ca4b5d3f18",
        "outputId": "28bbb0e7-4bba-488b-8223-358877e7214f"
      },
      "outputs": [
        {
          "output_type": "stream",
          "name": "stdout",
          "text": [
            "\n",
            "Result by Age Bin:\n",
            "\n",
            "  Age_Bin  Count  Mean_Income  Median_Income\n",
            "0   15-25      0          NaN            NaN\n",
            "1   25-34      0          NaN            NaN\n",
            "2   34-45      0          NaN            NaN\n",
            "3   45-55      0          NaN            NaN\n"
          ]
        }
      ],
      "source": [
        "print(\"\\nResult by Age Bin:\\n\")\n",
        "print(result)"
      ]
    },
    {
      "cell_type": "markdown",
      "id": "AhDoCN43XeGt",
      "metadata": {
        "id": "AhDoCN43XeGt"
      },
      "source": [
        "Problem 4: Create an array it cannot be of 1 Dimension. And then showcase the operation for\n",
        "the following:\n",
        "● Shape and Resize → shape, size, Transpose, Flatten\n",
        "● Showcasing negative indexing and display error while doing slicing\n",
        "● Arithmetic Operations → Broadcasting, Dot Product\n",
        "● Linear Algebra → Determinant, Inverse\n",
        "                                                                                       "
      ]
    },
    {
      "cell_type": "code",
      "execution_count": null,
      "id": "66d2f3d3-ec70-4d8a-9547-77fccdb7e66f",
      "metadata": {
        "colab": {
          "base_uri": "https://localhost:8080/"
        },
        "id": "66d2f3d3-ec70-4d8a-9547-77fccdb7e66f",
        "outputId": "f0a305eb-b0e0-459e-9ac6-21c1270b3fdc"
      },
      "outputs": [
        {
          "output_type": "stream",
          "name": "stdout",
          "text": [
            "Original Array:\n",
            " [[2. 6. 8.]\n",
            " [6. 4. 2.]\n",
            " [5. 7. 1.]]\n"
          ]
        }
      ],
      "source": [
        "arr = np.array([[2, 6, 8],\n",
        "                [6, 4, 2],\n",
        "                [5, 7, 1]], dtype=float)\n",
        "print(\"Original Array:\\n\", arr)"
      ]
    },
    {
      "cell_type": "code",
      "execution_count": null,
      "id": "c227c64b-96dc-42ce-a006-c4f15977246d",
      "metadata": {
        "colab": {
          "base_uri": "https://localhost:8080/"
        },
        "id": "c227c64b-96dc-42ce-a006-c4f15977246d",
        "outputId": "4b4da10b-7a4c-49d8-c7fe-20394e007165"
      },
      "outputs": [
        {
          "output_type": "stream",
          "name": "stdout",
          "text": [
            "\n",
            "Shape of array: (3, 3)\n",
            "Size of array: 9\n",
            "Transpose of array:\n",
            " [[2. 6. 5.]\n",
            " [6. 4. 7.]\n",
            " [8. 2. 1.]]\n",
            "Flattened array:\n",
            " [2. 6. 8. 6. 4. 2. 5. 7. 1.]\n"
          ]
        }
      ],
      "source": [
        "# Shape and Resize\n",
        "print(\"\\nShape of array:\", arr.shape)\n",
        "print(\"Size of array:\", arr.size)\n",
        "print(\"Transpose of array:\\n\", arr.T)\n",
        "print(\"Flattened array:\\n\", arr.flatten())"
      ]
    },
    {
      "cell_type": "code",
      "execution_count": null,
      "id": "db46664f-70f5-46fa-a1f0-cb9df864b97f",
      "metadata": {
        "colab": {
          "base_uri": "https://localhost:8080/"
        },
        "id": "db46664f-70f5-46fa-a1f0-cb9df864b97f",
        "outputId": "cfd9a162-1849-4e58-f253-618d093646ad"
      },
      "outputs": [
        {
          "output_type": "stream",
          "name": "stdout",
          "text": [
            "\n",
            "Last row using negative indexing: [5. 7. 1.]\n",
            "Last element using negative indexing: 1.0\n"
          ]
        }
      ],
      "source": [
        "# Negative Indexing\n",
        "print(\"\\nLast row using negative indexing:\", arr[-1])\n",
        "print(\"Last element using negative indexing:\", arr[-1, -1])"
      ]
    },
    {
      "cell_type": "code",
      "execution_count": null,
      "id": "13684b04-4f9d-47fc-9ce1-3e474e04061a",
      "metadata": {
        "colab": {
          "base_uri": "https://localhost:8080/"
        },
        "id": "13684b04-4f9d-47fc-9ce1-3e474e04061a",
        "outputId": "2bfa64c7-6505-4cf7-8653-7dcedbb05a6a"
      },
      "outputs": [
        {
          "output_type": "stream",
          "name": "stdout",
          "text": [
            "\n",
            "IndexError: index -7 is out of bounds for axis 0 with size 3\n"
          ]
        }
      ],
      "source": [
        "# Error in slicing\n",
        "try:\n",
        "    print(arr[-7])\n",
        "except IndexError as e:\n",
        "    print(\"\\nIndexError:\", e)"
      ]
    },
    {
      "cell_type": "code",
      "execution_count": null,
      "id": "b8bfee98-162a-4f3c-81b2-cf48bba3b5fc",
      "metadata": {
        "colab": {
          "base_uri": "https://localhost:8080/"
        },
        "id": "b8bfee98-162a-4f3c-81b2-cf48bba3b5fc",
        "outputId": "3020f62a-2084-4bb1-a091-c0d57c71c9d0"
      },
      "outputs": [
        {
          "output_type": "stream",
          "name": "stdout",
          "text": [
            "\n",
            "Broadcasting (arr + 7):\n",
            " [[ 9. 13. 15.]\n",
            " [13. 11.  9.]\n",
            " [12. 14.  8.]]\n",
            "\n",
            "Dot Product (arr x arr):\n",
            " [[80. 92. 36.]\n",
            " [46. 66. 58.]\n",
            " [57. 65. 55.]]\n",
            "\n",
            "Determinant: 180.0\n",
            "Inverse:\n",
            " [[-0.05555556  0.27777778 -0.11111111]\n",
            " [ 0.02222222 -0.21111111  0.24444444]\n",
            " [ 0.12222222  0.08888889 -0.15555556]]\n"
          ]
        }
      ],
      "source": [
        "# Arithmetic Operations\n",
        "# Broadcasting (adding scalar)\n",
        "print(\"\\nBroadcasting (arr + 7):\\n\", arr + 7)\n",
        "\n",
        "# Dot product (matrix multiplication)\n",
        "dot_product = np.dot(arr, arr)\n",
        "print(\"\\nDot Product (arr x arr):\\n\", dot_product)\n",
        "\n",
        "# Linear Algebra Operations\n",
        "det = np.linalg.det(arr)\n",
        "print(\"\\nDeterminant:\", det)\n",
        "\n",
        "# Inverse (only if determinant != 0)\n",
        "if det != 0:\n",
        "    inv = np.linalg.inv(arr)\n",
        "    print(\"Inverse:\\n\", inv)\n",
        "else:\n",
        "    print(\"Matrix is singular, inverse does not exist\")"
      ]
    },
    {
      "cell_type": "code",
      "execution_count": null,
      "id": "3e5fb43c-e66c-4c26-b5c4-9b2bbc38d240",
      "metadata": {
        "id": "3e5fb43c-e66c-4c26-b5c4-9b2bbc38d240"
      },
      "outputs": [],
      "source": []
    },
    {
      "cell_type": "code",
      "execution_count": null,
      "id": "9b448586-6d12-47e9-9461-ddf90bc3f5f1",
      "metadata": {
        "id": "9b448586-6d12-47e9-9461-ddf90bc3f5f1"
      },
      "outputs": [],
      "source": []
    },
    {
      "cell_type": "code",
      "execution_count": null,
      "id": "cb87bdfa-2314-49ca-bf6e-6a12978cc833",
      "metadata": {
        "id": "cb87bdfa-2314-49ca-bf6e-6a12978cc833"
      },
      "outputs": [],
      "source": []
    }
  ],
  "metadata": {
    "colab": {
      "provenance": []
    },
    "kernelspec": {
      "display_name": "Python 3 (ipykernel)",
      "language": "python",
      "name": "python3"
    },
    "language_info": {
      "codemirror_mode": {
        "name": "ipython",
        "version": 3
      },
      "file_extension": ".py",
      "mimetype": "text/x-python",
      "name": "python",
      "nbconvert_exporter": "python",
      "pygments_lexer": "ipython3",
      "version": "3.12.4"
    }
  },
  "nbformat": 4,
  "nbformat_minor": 5
}