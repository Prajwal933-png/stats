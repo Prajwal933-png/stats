{
  "nbformat": 4,
  "nbformat_minor": 0,
  "metadata": {
    "colab": {
      "provenance": []
    },
    "kernelspec": {
      "name": "python3",
      "display_name": "Python 3"
    },
    "language_info": {
      "name": "python"
    }
  },
  "cells": [
    {
      "cell_type": "code",
      "execution_count": 1,
      "metadata": {
        "colab": {
          "base_uri": "https://localhost:8080/"
        },
        "id": "kzrMywoXfAC0",
        "outputId": "a5d1d328-db7a-4c46-b21b-e4bf99eef54f"
      },
      "outputs": [
        {
          "output_type": "stream",
          "name": "stdout",
          "text": [
            "## Part 1: Teachers' Rating Dataset\n",
            "-----------------------------------\n"
          ]
        }
      ],
      "source": [
        "# Import necessary libraries\n",
        "import numpy as np\n",
        "from scipy import stats\n",
        "import math\n",
        "\n",
        "# ===================================================\n",
        "#  PART 1: Teachers' Rating Dataset\n",
        "# ===================================================\n",
        "print(\"## Part 1: Teachers' Rating Dataset\")\n",
        "print(\"-\" * 35)\n",
        "\n",
        "# The hypothetical dataset of 50 teacher evaluation scores\n",
        "ratings = np.array([\n",
        "    3.8, 2.5, 4.6, 4.9, 3.2, 4.1, 4.8, 3.7, 4.3, 2.9, 4.7, 3.6, 4.0, 4.4, 3.9,\n",
        "    5.0, 4.2, 3.4, 4.5, 3.8, 4.6, 4.1, 3.5, 4.8, 3.9, 4.7, 3.3, 4.0, 4.3, 3.1,\n",
        "    4.9, 2.8, 4.5, 3.7, 4.2, 3.6, 4.6, 4.1, 3.8, 4.4, 4.0, 3.9, 4.7, 4.2, 3.5,\n",
        "    4.8, 4.3, 3.0, 4.6, 4.1\n",
        "])"
      ]
    },
    {
      "cell_type": "markdown",
      "source": [
        "Q1. Using the teachers' rating dataset, what is the probability of receiving an evaluation score of greater than 4.5"
      ],
      "metadata": {
        "id": "MVW1oc67fT-q"
      }
    },
    {
      "cell_type": "code",
      "source": [
        "# Count how many scores are > 4.5\n",
        "count_gt_4_5 = np.sum(ratings > 4.5)\n",
        "total_count = len(ratings)\n",
        "# Calculate the probability\n",
        "prob_gt_4_5 = count_gt_4_5 / total_count\n",
        "\n",
        "print(f\"Q1: Probability of receiving a score > 4.5\")\n",
        "print(f\"   - Count of scores > 4.5: {count_gt_4_5}\")\n",
        "print(f\"   - Total scores: {total_count}\")\n",
        "print(f\"   - Probability: {count_gt_4_5}/{total_count} = {prob_gt_4_5:.2f} or {prob_gt_4_5:.0%}\\n\")"
      ],
      "metadata": {
        "colab": {
          "base_uri": "https://localhost:8080/"
        },
        "id": "ElWJv_iAfEF9",
        "outputId": "a0f3504b-3495-401c-d57d-9b2658793ad7"
      },
      "execution_count": 2,
      "outputs": [
        {
          "output_type": "stream",
          "name": "stdout",
          "text": [
            "Q1: Probability of receiving a score > 4.5\n",
            "   - Count of scores > 4.5: 13\n",
            "   - Total scores: 50\n",
            "   - Probability: 13/50 = 0.26 or 26%\n",
            "\n"
          ]
        }
      ]
    },
    {
      "cell_type": "markdown",
      "source": [
        "Q2. Using the teachers' rating dataset, what is the probability of receiving an evaluation score greater than 3.5 and less than 4.2"
      ],
      "metadata": {
        "id": "WazSyHt1fW3z"
      }
    },
    {
      "cell_type": "code",
      "source": [
        "print(\"## Part 2: Hypothesis Test for Basketball Teams\")\n",
        "print(\"-\" * 45)\n"
      ],
      "metadata": {
        "colab": {
          "base_uri": "https://localhost:8080/"
        },
        "id": "Yw2dkSamfGHn",
        "outputId": "076d2786-7a45-463a-8d73-385ab3f70d4b"
      },
      "execution_count": 3,
      "outputs": [
        {
          "output_type": "stream",
          "name": "stdout",
          "text": [
            "## Part 2: Hypothesis Test for Basketball Teams\n",
            "---------------------------------------------\n"
          ]
        }
      ]
    },
    {
      "cell_type": "markdown",
      "source": [
        "Q3. Using the two-tailed test from a normal distribution:\n",
        "1. A professional basketball team wants to compare its performance with that of players in a regional league.\n",
        "2. The pros are known to have a historic mean of 12 points per game with a standard deviation of 5.5.\n",
        "3. A group of 36 regional players recorded on average 10.7 points per game.\n",
        "4. The pro coach would like to know whether his professional team scores on average are different from that of the regional players.\n",
        "State the null hypothesis\n",
        "Null Hypo: (\"The mean point of the regional players is not different from the historic mean\")\n",
        "Alternative Hypo: (\"The mean point of the regional players is different from the historic mean\")"
      ],
      "metadata": {
        "id": "m3-h8tstfZKg"
      }
    },
    {
      "cell_type": "code",
      "source": [
        "print(\"Stating the Hypotheses:\")\n",
        "# The null hypothesis (H0) is a statement of no difference.\n",
        "print(\"Null Hypothesis (H0): The mean score of the regional players is equal to 12. ($H_0: \\\\mu = 12$)\")\n",
        "# The alternative hypothesis (Ha) is what the coach wants to test.\n",
        "print(\"Alternative Hypothesis (Ha): The mean score of the regional players is not equal to 12. ($H_a: \\\\mu \\\\neq 12$)\\n\")\n",
        "\n",
        "# Given information from the problem\n",
        "mu_0 = 12       # Historic mean (population mean under H0)\n",
        "sigma = 5.5     # Population standard deviation\n",
        "n = 36          # Sample size\n",
        "x_bar = 10.7    # Sample mean\n",
        "\n",
        "# Step 1: Calculate the standard error of the mean (SEM)\n",
        "# This measures the standard deviation of the sample mean's distribution.\n",
        "sem = sigma / math.sqrt(n)\n",
        "\n",
        "# Step 2: Calculate the Z-score (the test statistic)\n",
        "# This tells us how many standard errors the sample mean is from the population mean.\n",
        "z_score = (x_bar - mu_0) / sem\n",
        "\n",
        "# Step 3: Calculate the p-value for a two-tailed test\n",
        "# This is the probability of observing a result as extreme as, or more extreme than, the one we got.\n",
        "# We multiply by 2 because it's a two-tailed test (we care about differences in both directions).\n",
        "p_value = 2 * stats.norm.cdf(z_score)\n",
        "\n",
        "print(\"Performing the Two-Tailed Z-test:\")\n",
        "print(f\"   - Sample Mean (x̄): {x_bar}\")\n",
        "print(f\"   - Z-score: {z_score:.4f}\")\n",
        "print(f\"   - P-value: {p_value:.4f}\\n\")\n",
        "\n",
        "# Step 4: Make a conclusion based on a significance level (alpha), usually 0.05\n",
        "alpha = 0.05\n",
        "print(f\"Conclusion (at α = {alpha} significance level):\")\n",
        "if p_value < alpha:\n",
        "    print(f\"   - Since the p-value ({p_value:.4f}) is less than {alpha}, we REJECT the null hypothesis.\")\n",
        "    print(\"   - There is statistically significant evidence to conclude that the professional team's average score is different from that of the regional players.\")\n",
        "else:\n",
        "    print(f\"   - Since the p-value ({p_value:.4f}) is greater than {alpha}, we FAIL TO REJECT the null hypothesis.\")\n",
        "    print(\"   - There is not enough evidence to conclude that the professional team's average score is different from that of the regional players.\")"
      ],
      "metadata": {
        "colab": {
          "base_uri": "https://localhost:8080/"
        },
        "id": "xKCVcsN-fJ1J",
        "outputId": "80760413-4449-4bcc-f17b-0224b6f5bec0"
      },
      "execution_count": 4,
      "outputs": [
        {
          "output_type": "stream",
          "name": "stdout",
          "text": [
            "Stating the Hypotheses:\n",
            "Null Hypothesis (H0): The mean score of the regional players is equal to 12. ($H_0: \\mu = 12$)\n",
            "Alternative Hypothesis (Ha): The mean score of the regional players is not equal to 12. ($H_a: \\mu \\neq 12$)\n",
            "\n",
            "Performing the Two-Tailed Z-test:\n",
            "   - Sample Mean (x̄): 10.7\n",
            "   - Z-score: -1.4182\n",
            "   - P-value: 0.1561\n",
            "\n",
            "Conclusion (at α = 0.05 significance level):\n",
            "   - Since the p-value (0.1561) is greater than 0.05, we FAIL TO REJECT the null hypothesis.\n",
            "   - There is not enough evidence to conclude that the professional team's average score is different from that of the regional players.\n"
          ]
        }
      ]
    }
  ]
}