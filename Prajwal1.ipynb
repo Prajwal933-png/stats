{
  "nbformat": 4,
  "nbformat_minor": 0,
  "metadata": {
    "colab": {
      "provenance": []
    },
    "kernelspec": {
      "name": "python3",
      "display_name": "Python 3"
    },
    "language_info": {
      "name": "python"
    }
  },
  "cells": [
    {
      "cell_type": "markdown",
      "source": [],
      "metadata": {
        "id": "a-SJO76DmJdu"
      }
    },
    {
      "cell_type": "code",
      "execution_count": 1,
      "metadata": {
        "colab": {
          "base_uri": "https://localhost:8080/"
        },
        "id": "07xC0XSHlhYB",
        "outputId": "0da749f3-fa16-4868-afb5-21076ae89d2b"
      },
      "outputs": [
        {
          "output_type": "stream",
          "name": "stdout",
          "text": [
            "   teacher_id  gender    beauty  students  tenure    rating\n",
            "0           1    Male  3.979963       100       0  4.074740\n",
            "1           2  Female  5.348381       211       1  5.920294\n",
            "2           3  Female  5.439609        28       0  6.771588\n",
            "3           4  Female  3.928473        48       1  4.716869\n",
            "4           5    Male  7.798662       135       0  6.833854\n"
          ]
        }
      ],
      "source": [
        "import pandas as pd\n",
        "import numpy as np\n",
        "import matplotlib.pyplot as plt\n",
        "import seaborn as sns\n",
        "\n",
        "# Set random seed for reproducibility\n",
        "np.random.seed(42)\n",
        "\n",
        "# Create synthetic data\n",
        "n = 200  # number of teachers\n",
        "\n",
        "df = pd.DataFrame({\n",
        "    'teacher_id': range(1, n+1),\n",
        "    'gender': np.random.choice(['Male', 'Female'], size=n, p=[0.5, 0.5]),\n",
        "    'beauty': np.random.normal(5, 1.5, size=n).clip(1, 10),  # mean=5, sd=1.5, clipped 1–10\n",
        "    'students': np.random.randint(10, 300, size=n),\n",
        "    'tenure': np.random.choice([0, 1], size=n, p=[0.6, 0.4]),  # 40% tenured\n",
        "})\n",
        "\n",
        "# Let's make 'rating' partly depend on beauty\n",
        "df['rating'] = (0.5 * df['beauty'] + np.random.normal(3, 1, size=n)).clip(1, 10)\n",
        "\n",
        "print(df.head())\n"
      ]
    },
    {
      "cell_type": "markdown",
      "source": [
        "\n",
        "Q1. Can you identify whether teachers Rating Data is a time serires or cross sectional?"
      ],
      "metadata": {
        "id": "_JFvB_F6maP-"
      }
    },
    {
      "cell_type": "code",
      "source": [
        "# Since there is no time column, this is cross-sectional data\n",
        "print(\"The Teacher Rating Data is CROSS-SECTIONAL (not time series).\")\n"
      ],
      "metadata": {
        "colab": {
          "base_uri": "https://localhost:8080/"
        },
        "id": "StGAewHZlq0q",
        "outputId": "7e5632ff-79d7-4a15-8cdb-e39c3f4a3cc9"
      },
      "execution_count": 3,
      "outputs": [
        {
          "output_type": "stream",
          "name": "stdout",
          "text": [
            "The Teacher Rating Data is CROSS-SECTIONAL (not time series).\n"
          ]
        }
      ]
    },
    {
      "cell_type": "markdown",
      "source": [],
      "metadata": {
        "id": "-X1UOTJVmHU_"
      }
    },
    {
      "cell_type": "markdown",
      "source": [
        "Q2. Find the mean, median, minimum and maximum values for the students."
      ],
      "metadata": {
        "id": "1EdKgVj3mOCB"
      }
    },
    {
      "cell_type": "code",
      "source": [
        "mean_students = df['students'].mean()\n",
        "median_students = df['students'].median()\n",
        "min_students = df['students'].min()\n",
        "max_students = df['students'].max()\n",
        "\n",
        "print(f\"Mean: {mean_students:.2f}\")\n",
        "print(f\"Median: {median_students}\")\n",
        "print(f\"Minimum: {min_students}\")\n",
        "print(f\"Maximum: {max_students}\")\n"
      ],
      "metadata": {
        "colab": {
          "base_uri": "https://localhost:8080/"
        },
        "id": "TlOqC0shlrol",
        "outputId": "1d996dc2-e344-445e-a7c3-52c44690c0da"
      },
      "execution_count": 4,
      "outputs": [
        {
          "output_type": "stream",
          "name": "stdout",
          "text": [
            "Mean: 155.41\n",
            "Median: 157.5\n",
            "Minimum: 10\n",
            "Maximum: 298\n"
          ]
        }
      ]
    },
    {
      "cell_type": "markdown",
      "source": [
        "Q3. Produce the descriptive statistics table."
      ],
      "metadata": {
        "id": "Lyjzy3aqmdOo"
      }
    },
    {
      "cell_type": "code",
      "source": [
        "desc_stats = df.describe()\n",
        "print(desc_stats)\n"
      ],
      "metadata": {
        "colab": {
          "base_uri": "https://localhost:8080/"
        },
        "id": "-TJL2GZiluos",
        "outputId": "447df3a8-4846-4a63-f1e7-fd8e8723bfdf"
      },
      "execution_count": 2,
      "outputs": [
        {
          "output_type": "stream",
          "name": "stdout",
          "text": [
            "       teacher_id      beauty    students      tenure      rating\n",
            "count  200.000000  200.000000  200.000000  200.000000  200.000000\n",
            "mean   100.500000    5.101535  155.405000    0.400000    5.578823\n",
            "std     57.879185    1.425550   85.411631    0.491127    1.311479\n",
            "min      1.000000    1.000000   10.000000    0.000000    1.000000\n",
            "25%     50.750000    4.001555   77.250000    0.000000    4.702214\n",
            "50%    100.500000    5.134153  157.500000    0.000000    5.712856\n",
            "75%    150.250000    5.999746  231.500000    1.000000    6.589910\n",
            "max    200.000000   10.000000  298.000000    1.000000    8.457649\n"
          ]
        }
      ]
    },
    {
      "cell_type": "markdown",
      "source": [
        "Q4. Create a histogram of the beauty variable and breifly comment on the distribution of the data."
      ],
      "metadata": {
        "id": "HI-JY_r3mgKS"
      }
    },
    {
      "cell_type": "code",
      "source": [
        "plt.figure(figsize=(8,5))\n",
        "sns.histplot(df['beauty'], bins=20, kde=True, color='skyblue')\n",
        "plt.title(\"Distribution of Beauty Scores\")\n",
        "plt.xlabel(\"Beauty Score\")\n",
        "plt.ylabel(\"Frequency\")\n",
        "plt.show()\n"
      ],
      "metadata": {
        "colab": {
          "base_uri": "https://localhost:8080/",
          "height": 487
        },
        "id": "-eNNcEHwlzso",
        "outputId": "7aa94432-8558-48db-f8a1-1d0268162840"
      },
      "execution_count": 5,
      "outputs": [
        {
          "output_type": "display_data",
          "data": {
            "text/plain": [
              "<Figure size 800x500 with 1 Axes>"
            ],
            "image/png": "[encoded data removed]"
          },
          "metadata": {}
        }
      ]
    },
    {
      "cell_type": "markdown",
      "source": [
        "Q5. Does average beauty score differ by gender? Produce the means and standard deviations for both male and female instructors"
      ],
      "metadata": {
        "id": "C-Qojee4mizO"
      }
    },
    {
      "cell_type": "code",
      "source": [
        "gender_beauty_stats = df.groupby('gender')['beauty'].agg(['mean', 'std', 'count'])\n",
        "print(gender_beauty_stats)\n"
      ],
      "metadata": {
        "colab": {
          "base_uri": "https://localhost:8080/"
        },
        "id": "bRI-KttPl2MR",
        "outputId": "2e0f0bd3-3076-4296-9b75-1db5d07ab708"
      },
      "execution_count": 6,
      "outputs": [
        {
          "output_type": "stream",
          "name": "stdout",
          "text": [
            "            mean       std  count\n",
            "gender                           \n",
            "Female  5.144487  1.290316     98\n",
            "Male    5.060268  1.549689    102\n"
          ]
        }
      ]
    },
    {
      "cell_type": "markdown",
      "source": [
        "Q6. Calculate the percentage of males and females that are tenured professors. Will you say that tenure status differ by gender"
      ],
      "metadata": {
        "id": "bX2cIlvkmlXq"
      }
    },
    {
      "cell_type": "code",
      "source": [
        "tenure_by_gender = pd.crosstab(df['gender'], df['tenure'], normalize='index') * 100\n",
        "tenure_by_gender.columns = ['Not Tenured (%)', 'Tenured (%)']\n",
        "print(tenure_by_gender)\n"
      ],
      "metadata": {
        "colab": {
          "base_uri": "https://localhost:8080/"
        },
        "id": "22FbCf4Jl4MO",
        "outputId": "063bf595-f676-47f9-a7a3-f2a8a83e3343"
      },
      "execution_count": 7,
      "outputs": [
        {
          "output_type": "stream",
          "name": "stdout",
          "text": [
            "        Not Tenured (%)  Tenured (%)\n",
            "gender                              \n",
            "Female        57.142857    42.857143\n",
            "Male          62.745098    37.254902\n"
          ]
        }
      ]
    }
  ]
}